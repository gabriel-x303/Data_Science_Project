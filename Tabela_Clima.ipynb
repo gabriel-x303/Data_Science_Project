{
 "cells": [
  {
   "cell_type": "markdown",
   "id": "6601160b-0976-4516-80ae-e402ff9e3088",
   "metadata": {},
   "source": [
    "# Planilha de monitoramento do climático"
   ]
  },
  {
   "cell_type": "code",
   "execution_count": 107,
   "id": "6a3bfeee-a656-4aa1-8771-91a12d535460",
   "metadata": {},
   "outputs": [
    {
     "name": "stdin",
     "output_type": "stream",
     "text": [
      " 1\n"
     ]
    },
    {
     "data": {
      "text/html": [
       "<div>\n",
       "<style scoped>\n",
       "    .dataframe tbody tr th:only-of-type {\n",
       "        vertical-align: middle;\n",
       "    }\n",
       "\n",
       "    .dataframe tbody tr th {\n",
       "        vertical-align: top;\n",
       "    }\n",
       "\n",
       "    .dataframe thead th {\n",
       "        text-align: right;\n",
       "    }\n",
       "</style>\n",
       "<table border=\"1\" class=\"dataframe\">\n",
       "  <thead>\n",
       "    <tr style=\"text-align: right;\">\n",
       "      <th></th>\n",
       "      <th>Data</th>\n",
       "      <th>Dia da semana</th>\n",
       "      <th>Hora</th>\n",
       "      <th>Cidade</th>\n",
       "      <th>Status</th>\n",
       "      <th>Teperatura</th>\n",
       "      <th>Temperatura mínima</th>\n",
       "      <th>Temperatura máxima</th>\n",
       "      <th>Sensação térmica</th>\n",
       "      <th>Humidade do ar</th>\n",
       "      <th>Pressão atmosférica</th>\n",
       "      <th>Velocidade do vento</th>\n",
       "    </tr>\n",
       "  </thead>\n",
       "  <tbody>\n",
       "    <tr>\n",
       "      <th>0</th>\n",
       "      <td>25\\08\\24</td>\n",
       "      <td>Dom</td>\n",
       "      <td>12:33:00</td>\n",
       "      <td>Itarema</td>\n",
       "      <td>céu limpo</td>\n",
       "      <td>25.00</td>\n",
       "      <td>25.00</td>\n",
       "      <td>25.00</td>\n",
       "      <td>25.30</td>\n",
       "      <td>70</td>\n",
       "      <td>1013</td>\n",
       "      <td>7.00</td>\n",
       "    </tr>\n",
       "    <tr>\n",
       "      <th>1</th>\n",
       "      <td>06\\09\\24</td>\n",
       "      <td>sex</td>\n",
       "      <td>15:02:20</td>\n",
       "      <td>Fortaleza</td>\n",
       "      <td>céu limpo</td>\n",
       "      <td>30.07</td>\n",
       "      <td>27.34</td>\n",
       "      <td>30.07</td>\n",
       "      <td>30.84</td>\n",
       "      <td>48</td>\n",
       "      <td>1012</td>\n",
       "      <td>7.72</td>\n",
       "    </tr>\n",
       "  </tbody>\n",
       "</table>\n",
       "</div>"
      ],
      "text/plain": [
       "       Data Dia da semana      Hora     Cidade     Status  Teperatura  \\\n",
       "0  25\\08\\24           Dom  12:33:00    Itarema  céu limpo       25.00   \n",
       "1  06\\09\\24           sex  15:02:20  Fortaleza  céu limpo       30.07   \n",
       "\n",
       "   Temperatura mínima  Temperatura máxima  Sensação térmica  Humidade do ar  \\\n",
       "0               25.00               25.00             25.30              70   \n",
       "1               27.34               30.07             30.84              48   \n",
       "\n",
       "   Pressão atmosférica  Velocidade do vento  \n",
       "0                 1013                 7.00  \n",
       "1                 1012                 7.72  "
      ]
     },
     "execution_count": 107,
     "metadata": {},
     "output_type": "execute_result"
    }
   ],
   "source": [
    "import requests\n",
    "import datetime\n",
    "import locale\n",
    "import pandas as pd\n",
    "\n",
    "df = pd.read_excel('Monitoramento_Clima.xlsx')\n",
    "\n",
    "api_key = \"1e0ccf6dc06072e3cf91ff5b05cbf4e2\"\n",
    "\n",
    "cities = (\"Fortaleza\", \"Sobral\", \"Acaraú\", \"Itarema\")\n",
    "cities_dic = []\n",
    "\n",
    "for index in range(4):\n",
    "    api_key = \"1e0ccf6dc06072e3cf91ff5b05cbf4e2\"\n",
    "    address = f\"https://api.openweathermap.org/data/2.5/weather?q={cities[index]}&appid={api_key}&lang=pt_br&units=metric\"\n",
    "    rqt = requests.get(address)\n",
    "    locale.setlocale(locale.LC_TIME, 'pt_BR.UTF-8')\n",
    "    date_time = datetime.datetime.now()\n",
    "    formated_date = date_time.strftime('%d\\%m\\%y')\n",
    "    week_day = date_time.strftime('%a')\n",
    "    formated_hour = date_time.strftime('%H:%M:%S')\n",
    "    cities_dic.append(rqt.json())\n",
    "\n",
    "df.loc[input()] = [formated_date, week_day, formated_hour, cities[0], cities_dic[0][\"weather\"][0][\"description\"], cities_dic[0][\"main\"][\"temp\"], cities_dic[0][\"main\"][\"temp_min\"], cities_dic[0][\"main\"][\"temp_max\"], cities_dic[0][\"main\"][\"feels_like\"], cities_dic[0][\"main\"][\"humidity\"], cities_dic[0][\"main\"][\"pressure\"], cities_dic[0][\"wind\"][\"speed\"]]\n",
    "df.to_excel('Teste.xlsx')\n",
    "df.tail()"
   ]
  }
 ],
 "metadata": {
  "kernelspec": {
   "display_name": "Python 3 (ipykernel)",
   "language": "python",
   "name": "python3"
  },
  "language_info": {
   "codemirror_mode": {
    "name": "ipython",
    "version": 3
   },
   "file_extension": ".py",
   "mimetype": "text/x-python",
   "name": "python",
   "nbconvert_exporter": "python",
   "pygments_lexer": "ipython3",
   "version": "3.11.7"
  }
 },
 "nbformat": 4,
 "nbformat_minor": 5
}
